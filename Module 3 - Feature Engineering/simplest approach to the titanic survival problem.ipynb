{
 "cells": [
  {
   "cell_type": "code",
   "execution_count": 2,
   "metadata": {
    "execution": {
     "iopub.execute_input": "2020-09-12T05:16:37.141548Z",
     "iopub.status.busy": "2020-09-12T05:16:37.140677Z",
     "iopub.status.idle": "2020-09-12T05:16:38.498168Z",
     "shell.execute_reply": "2020-09-12T05:16:38.497472Z"
    },
    "papermill": {
     "duration": 1.417134,
     "end_time": "2020-09-12T05:16:38.498298",
     "exception": false,
     "start_time": "2020-09-12T05:16:37.081164",
     "status": "completed"
    },
    "tags": []
   },
   "outputs": [],
   "source": [
    "import numpy as np \n",
    "import pandas as pd \n",
    "from matplotlib import pyplot as plt\n",
    "import seaborn as sns\n",
    "from sklearn.linear_model import LogisticRegression\n",
    "from sklearn.model_selection import train_test_split\n",
    "from sklearn.preprocessing import StandardScaler"
   ]
  },
  {
   "cell_type": "code",
   "execution_count": 3,
   "metadata": {
    "execution": {
     "iopub.execute_input": "2020-09-12T05:16:38.712069Z",
     "iopub.status.busy": "2020-09-12T05:16:38.711191Z",
     "iopub.status.idle": "2020-09-12T05:16:38.758376Z",
     "shell.execute_reply": "2020-09-12T05:16:38.758997Z"
    },
    "papermill": {
     "duration": 0.099511,
     "end_time": "2020-09-12T05:16:38.759178",
     "exception": false,
     "start_time": "2020-09-12T05:16:38.659667",
     "status": "completed"
    },
    "tags": []
   },
   "outputs": [],
   "source": [
    "train = pd.read_csv(r'D:\\Github projects\\Titanic-dataset-solution-with-data\\train.csv')\n",
    "test_df = pd.read_csv(r'D:\\Github projects\\Titanic-dataset-solution-with-data\\test.csv')\n",
    "labels = train.Survived"
   ]
  },
  {
   "cell_type": "code",
   "execution_count": 4,
   "metadata": {
    "execution": {
     "iopub.execute_input": "2020-09-12T05:16:38.861642Z",
     "iopub.status.busy": "2020-09-12T05:16:38.860599Z",
     "iopub.status.idle": "2020-09-12T05:16:38.885059Z",
     "shell.execute_reply": "2020-09-12T05:16:38.884109Z"
    },
    "papermill": {
     "duration": 0.077608,
     "end_time": "2020-09-12T05:16:38.885237",
     "exception": false,
     "start_time": "2020-09-12T05:16:38.807629",
     "status": "completed"
    },
    "tags": []
   },
   "outputs": [
    {
     "name": "stdout",
     "output_type": "stream",
     "text": [
      "<class 'pandas.core.frame.DataFrame'>\n",
      "RangeIndex: 891 entries, 0 to 890\n",
      "Data columns (total 12 columns):\n",
      " #   Column       Non-Null Count  Dtype  \n",
      "---  ------       --------------  -----  \n",
      " 0   PassengerId  891 non-null    int64  \n",
      " 1   Survived     891 non-null    int64  \n",
      " 2   Pclass       891 non-null    int64  \n",
      " 3   Name         891 non-null    object \n",
      " 4   Sex          891 non-null    object \n",
      " 5   Age          714 non-null    float64\n",
      " 6   SibSp        891 non-null    int64  \n",
      " 7   Parch        891 non-null    int64  \n",
      " 8   Ticket       891 non-null    object \n",
      " 9   Fare         891 non-null    float64\n",
      " 10  Cabin        204 non-null    object \n",
      " 11  Embarked     889 non-null    object \n",
      "dtypes: float64(2), int64(5), object(5)\n",
      "memory usage: 83.7+ KB\n"
     ]
    }
   ],
   "source": [
    "train.info()"
   ]
  },
  {
   "cell_type": "code",
   "execution_count": 5,
   "metadata": {},
   "outputs": [
    {
     "data": {
      "text/plain": [
       "PassengerId      0\n",
       "Survived         0\n",
       "Pclass           0\n",
       "Name             0\n",
       "Sex              0\n",
       "Age            177\n",
       "SibSp            0\n",
       "Parch            0\n",
       "Ticket           0\n",
       "Fare             0\n",
       "Cabin          687\n",
       "Embarked         2\n",
       "dtype: int64"
      ]
     },
     "execution_count": 5,
     "metadata": {},
     "output_type": "execute_result"
    }
   ],
   "source": [
    "train.isnull().sum()"
   ]
  },
  {
   "cell_type": "markdown",
   "metadata": {
    "papermill": {
     "duration": 0.05088,
     "end_time": "2020-09-12T05:16:38.991181",
     "exception": false,
     "start_time": "2020-09-12T05:16:38.940301",
     "status": "completed"
    },
    "tags": []
   },
   "source": [
    "#### So there are three columns with missing value that is Age, Cabin and Embarked. Among them Cabin has very less values so I might reject it all together. "
   ]
  },
  {
   "cell_type": "code",
   "execution_count": 5,
   "metadata": {
    "execution": {
     "iopub.execute_input": "2020-09-12T05:16:39.120980Z",
     "iopub.status.busy": "2020-09-12T05:16:39.119788Z",
     "iopub.status.idle": "2020-09-12T05:16:39.133990Z",
     "shell.execute_reply": "2020-09-12T05:16:39.134920Z"
    },
    "papermill": {
     "duration": 0.092893,
     "end_time": "2020-09-12T05:16:39.135147",
     "exception": false,
     "start_time": "2020-09-12T05:16:39.042254",
     "status": "completed"
    },
    "tags": []
   },
   "outputs": [
    {
     "data": {
      "text/html": [
       "<div>\n",
       "<style scoped>\n",
       "    .dataframe tbody tr th:only-of-type {\n",
       "        vertical-align: middle;\n",
       "    }\n",
       "\n",
       "    .dataframe tbody tr th {\n",
       "        vertical-align: top;\n",
       "    }\n",
       "\n",
       "    .dataframe thead th {\n",
       "        text-align: right;\n",
       "    }\n",
       "</style>\n",
       "<table border=\"1\" class=\"dataframe\">\n",
       "  <thead>\n",
       "    <tr style=\"text-align: right;\">\n",
       "      <th></th>\n",
       "      <th>PassengerId</th>\n",
       "      <th>Survived</th>\n",
       "      <th>Pclass</th>\n",
       "      <th>Name</th>\n",
       "      <th>Sex</th>\n",
       "      <th>Age</th>\n",
       "      <th>SibSp</th>\n",
       "      <th>Parch</th>\n",
       "      <th>Ticket</th>\n",
       "      <th>Fare</th>\n",
       "      <th>Cabin</th>\n",
       "      <th>Embarked</th>\n",
       "    </tr>\n",
       "  </thead>\n",
       "  <tbody>\n",
       "    <tr>\n",
       "      <th>0</th>\n",
       "      <td>1</td>\n",
       "      <td>0</td>\n",
       "      <td>3</td>\n",
       "      <td>Braund, Mr. Owen Harris</td>\n",
       "      <td>male</td>\n",
       "      <td>22.0</td>\n",
       "      <td>1</td>\n",
       "      <td>0</td>\n",
       "      <td>A/5 21171</td>\n",
       "      <td>7.2500</td>\n",
       "      <td>NaN</td>\n",
       "      <td>S</td>\n",
       "    </tr>\n",
       "    <tr>\n",
       "      <th>1</th>\n",
       "      <td>2</td>\n",
       "      <td>1</td>\n",
       "      <td>1</td>\n",
       "      <td>Cumings, Mrs. John Bradley (Florence Briggs Th...</td>\n",
       "      <td>female</td>\n",
       "      <td>38.0</td>\n",
       "      <td>1</td>\n",
       "      <td>0</td>\n",
       "      <td>PC 17599</td>\n",
       "      <td>71.2833</td>\n",
       "      <td>C85</td>\n",
       "      <td>C</td>\n",
       "    </tr>\n",
       "    <tr>\n",
       "      <th>2</th>\n",
       "      <td>3</td>\n",
       "      <td>1</td>\n",
       "      <td>3</td>\n",
       "      <td>Heikkinen, Miss. Laina</td>\n",
       "      <td>female</td>\n",
       "      <td>26.0</td>\n",
       "      <td>0</td>\n",
       "      <td>0</td>\n",
       "      <td>STON/O2. 3101282</td>\n",
       "      <td>7.9250</td>\n",
       "      <td>NaN</td>\n",
       "      <td>S</td>\n",
       "    </tr>\n",
       "    <tr>\n",
       "      <th>3</th>\n",
       "      <td>4</td>\n",
       "      <td>1</td>\n",
       "      <td>1</td>\n",
       "      <td>Futrelle, Mrs. Jacques Heath (Lily May Peel)</td>\n",
       "      <td>female</td>\n",
       "      <td>35.0</td>\n",
       "      <td>1</td>\n",
       "      <td>0</td>\n",
       "      <td>113803</td>\n",
       "      <td>53.1000</td>\n",
       "      <td>C123</td>\n",
       "      <td>S</td>\n",
       "    </tr>\n",
       "    <tr>\n",
       "      <th>4</th>\n",
       "      <td>5</td>\n",
       "      <td>0</td>\n",
       "      <td>3</td>\n",
       "      <td>Allen, Mr. William Henry</td>\n",
       "      <td>male</td>\n",
       "      <td>35.0</td>\n",
       "      <td>0</td>\n",
       "      <td>0</td>\n",
       "      <td>373450</td>\n",
       "      <td>8.0500</td>\n",
       "      <td>NaN</td>\n",
       "      <td>S</td>\n",
       "    </tr>\n",
       "  </tbody>\n",
       "</table>\n",
       "</div>"
      ],
      "text/plain": [
       "   PassengerId  Survived  Pclass  \\\n",
       "0            1         0       3   \n",
       "1            2         1       1   \n",
       "2            3         1       3   \n",
       "3            4         1       1   \n",
       "4            5         0       3   \n",
       "\n",
       "                                                Name     Sex   Age  SibSp  \\\n",
       "0                            Braund, Mr. Owen Harris    male  22.0      1   \n",
       "1  Cumings, Mrs. John Bradley (Florence Briggs Th...  female  38.0      1   \n",
       "2                             Heikkinen, Miss. Laina  female  26.0      0   \n",
       "3       Futrelle, Mrs. Jacques Heath (Lily May Peel)  female  35.0      1   \n",
       "4                           Allen, Mr. William Henry    male  35.0      0   \n",
       "\n",
       "   Parch            Ticket     Fare Cabin Embarked  \n",
       "0      0         A/5 21171   7.2500   NaN        S  \n",
       "1      0          PC 17599  71.2833   C85        C  \n",
       "2      0  STON/O2. 3101282   7.9250   NaN        S  \n",
       "3      0            113803  53.1000  C123        S  \n",
       "4      0            373450   8.0500   NaN        S  "
      ]
     },
     "execution_count": 5,
     "metadata": {},
     "output_type": "execute_result"
    }
   ],
   "source": [
    "train.head()"
   ]
  },
  {
   "cell_type": "markdown",
   "metadata": {
    "papermill": {
     "duration": 0.051197,
     "end_time": "2020-09-12T05:16:39.240832",
     "exception": false,
     "start_time": "2020-09-12T05:16:39.189635",
     "status": "completed"
    },
    "tags": []
   },
   "source": [
    "## Data-Visualisation"
   ]
  },
  {
   "cell_type": "code",
   "execution_count": 6,
   "metadata": {
    "execution": {
     "iopub.execute_input": "2020-09-12T05:16:39.356399Z",
     "iopub.status.busy": "2020-09-12T05:16:39.355521Z",
     "iopub.status.idle": "2020-09-12T05:16:39.526000Z",
     "shell.execute_reply": "2020-09-12T05:16:39.525282Z"
    },
    "papermill": {
     "duration": 0.234916,
     "end_time": "2020-09-12T05:16:39.526122",
     "exception": false,
     "start_time": "2020-09-12T05:16:39.291206",
     "status": "completed"
    },
    "tags": []
   },
   "outputs": [
    {
     "data": {
      "image/png": "[encoded data removed]",
      "text/plain": [
       "<Figure size 432x288 with 1 Axes>"
      ]
     },
     "metadata": {
      "needs_background": "light"
     },
     "output_type": "display_data"
    }
   ],
   "source": [
    "ax = sns.countplot(train['Survived'])\n",
    "for p in ax.patches:\n",
    "        ax.annotate(format(p.get_height()), (p.get_x()+0.35, p.get_height()+1))"
   ]
  },
  {
   "cell_type": "markdown",
   "metadata": {
    "papermill": {
     "duration": 0.050143,
     "end_time": "2020-09-12T05:16:39.626707",
     "exception": false,
     "start_time": "2020-09-12T05:16:39.576564",
     "status": "completed"
    },
    "tags": []
   },
   "source": [
    "So aparently, more number of people died and less people were able to survive. Percentage wise ****(549/891)*100 = 61%***** of the people were not able to survive "
   ]
  },
  {
   "cell_type": "code",
   "execution_count": 8,
   "metadata": {
    "execution": {
     "iopub.execute_input": "2020-09-12T05:16:39.735596Z",
     "iopub.status.busy": "2020-09-12T05:16:39.734845Z",
     "iopub.status.idle": "2020-09-12T05:16:39.738683Z",
     "shell.execute_reply": "2020-09-12T05:16:39.738036Z"
    },
    "papermill": {
     "duration": 0.062614,
     "end_time": "2020-09-12T05:16:39.738823",
     "exception": false,
     "start_time": "2020-09-12T05:16:39.676209",
     "status": "completed"
    },
    "tags": []
   },
   "outputs": [],
   "source": [
    "def bar_chart(feature):\n",
    "    survived = train[train['Survived']==1][feature].value_counts()\n",
    "    dead = train[train['Survived']==0][feature].value_counts()\n",
    "    df = pd.DataFrame([survived,dead])\n",
    "    df.index = ['Survived','Dead']\n",
    "    df.plot(kind='bar',stacked=True, figsize=(10,5))"
   ]
  },
  {
   "cell_type": "code",
   "execution_count": 6,
   "metadata": {
    "execution": {
     "iopub.execute_input": "2020-09-12T05:16:39.893349Z",
     "iopub.status.busy": "2020-09-12T05:16:39.892297Z",
     "iopub.status.idle": "2020-09-12T05:16:40.060715Z",
     "shell.execute_reply": "2020-09-12T05:16:40.060059Z"
    },
    "papermill": {
     "duration": 0.257073,
     "end_time": "2020-09-12T05:16:40.060828",
     "exception": false,
     "start_time": "2020-09-12T05:16:39.803755",
     "status": "completed"
    },
    "tags": []
   },
   "outputs": [
    {
     "data": {
      "text/plain": [
       "<matplotlib.axes._subplots.AxesSubplot at 0x1c93327c388>"
      ]
     },
     "execution_count": 6,
     "metadata": {},
     "output_type": "execute_result"
    },
    {
     "data": {
      "image/png": "[encoded data removed]",
      "text/plain": [
       "<Figure size 432x288 with 1 Axes>"
      ]
     },
     "metadata": {
      "needs_background": "light"
     },
     "output_type": "display_data"
    }
   ],
   "source": [
    "sns.countplot(train['Sex'],hue ='Survived',data=train)"
   ]
  },
  {
   "cell_type": "code",
   "execution_count": 9,
   "metadata": {
    "execution": {
     "iopub.execute_input": "2020-09-12T05:16:40.184953Z",
     "iopub.status.busy": "2020-09-12T05:16:40.183068Z",
     "iopub.status.idle": "2020-09-12T05:16:40.363364Z",
     "shell.execute_reply": "2020-09-12T05:16:40.362796Z"
    },
    "papermill": {
     "duration": 0.246541,
     "end_time": "2020-09-12T05:16:40.363483",
     "exception": false,
     "start_time": "2020-09-12T05:16:40.116942",
     "status": "completed"
    },
    "tags": []
   },
   "outputs": [
    {
     "data": {
      "image/png": "[encoded data removed]",
      "text/plain": [
       "<Figure size 720x360 with 1 Axes>"
      ]
     },
     "metadata": {
      "needs_background": "light"
     },
     "output_type": "display_data"
    }
   ],
   "source": [
    "bar_chart('Sex')"
   ]
  },
  {
   "cell_type": "markdown",
   "metadata": {
    "papermill": {
     "duration": 0.052396,
     "end_time": "2020-09-12T05:16:40.468177",
     "exception": false,
     "start_time": "2020-09-12T05:16:40.415781",
     "status": "completed"
    },
    "tags": []
   },
   "source": [
    "#### Insights from this:- \n",
    "1. More than 450 men have died\n",
    "2. Around 100 men were able to survive\n",
    "3. Around 250 female survived \n",
    "4. Less than 100 females died \n",
    "5. Chances of survival for females were more than that of male ."
   ]
  },
  {
   "cell_type": "code",
   "execution_count": 10,
   "metadata": {
    "execution": {
     "iopub.execute_input": "2020-09-12T05:16:40.586998Z",
     "iopub.status.busy": "2020-09-12T05:16:40.585896Z",
     "iopub.status.idle": "2020-09-12T05:16:40.823960Z",
     "shell.execute_reply": "2020-09-12T05:16:40.823329Z"
    },
    "papermill": {
     "duration": 0.303785,
     "end_time": "2020-09-12T05:16:40.824081",
     "exception": false,
     "start_time": "2020-09-12T05:16:40.520296",
     "status": "completed"
    },
    "tags": []
   },
   "outputs": [
    {
     "data": {
      "image/png": "[encoded data removed]",
      "text/plain": [
       "<Figure size 720x360 with 1 Axes>"
      ]
     },
     "metadata": {
      "needs_background": "light"
     },
     "output_type": "display_data"
    }
   ],
   "source": [
    "bar_chart('Pclass')"
   ]
  },
  {
   "cell_type": "code",
   "execution_count": 11,
   "metadata": {
    "execution": {
     "iopub.execute_input": "2020-09-12T05:16:40.943891Z",
     "iopub.status.busy": "2020-09-12T05:16:40.942794Z",
     "iopub.status.idle": "2020-09-12T05:16:41.115873Z",
     "shell.execute_reply": "2020-09-12T05:16:41.115121Z"
    },
    "papermill": {
     "duration": 0.237525,
     "end_time": "2020-09-12T05:16:41.116000",
     "exception": false,
     "start_time": "2020-09-12T05:16:40.878475",
     "status": "completed"
    },
    "tags": []
   },
   "outputs": [
    {
     "data": {
      "image/png": "[encoded data removed]",
      "text/plain": [
       "<Figure size 432x288 with 1 Axes>"
      ]
     },
     "metadata": {
      "needs_background": "light"
     },
     "output_type": "display_data"
    }
   ],
   "source": [
    "ax =  sns.countplot(train['Pclass'],hue ='Survived',data=train)\n",
    "for p in ax.patches:\n",
    "        ax.annotate(format(p.get_height()), (p.get_x()+0.15, p.get_height()+1))"
   ]
  },
  {
   "cell_type": "code",
   "execution_count": 12,
   "metadata": {
    "execution": {
     "iopub.execute_input": "2020-09-12T05:16:41.234753Z",
     "iopub.status.busy": "2020-09-12T05:16:41.233635Z",
     "iopub.status.idle": "2020-09-12T05:16:41.239305Z",
     "shell.execute_reply": "2020-09-12T05:16:41.238574Z"
    },
    "papermill": {
     "duration": 0.06911,
     "end_time": "2020-09-12T05:16:41.239429",
     "exception": false,
     "start_time": "2020-09-12T05:16:41.170319",
     "status": "completed"
    },
    "tags": []
   },
   "outputs": [
    {
     "name": "stdout",
     "output_type": "stream",
     "text": [
      "Survival percentage of passenger in 1st class -  62.616822429906534\n",
      "Survival percentage of passenger in 2nd class -  47.28260869565217\n",
      "Survival Percentage of passenger in 3rd class -  24.236252545824847\n"
     ]
    }
   ],
   "source": [
    "print(\"Survival percentage of passenger in 1st class - \", (134/(134+80)*100))\n",
    "print(\"Survival percentage of passenger in 2nd class - \", (87/(87+97)*100))\n",
    "print(\"Survival Percentage of passenger in 3rd class - \", (119/(119+372)*100)) "
   ]
  },
  {
   "cell_type": "markdown",
   "metadata": {
    "papermill": {
     "duration": 0.056254,
     "end_time": "2020-09-12T05:16:41.355367",
     "exception": false,
     "start_time": "2020-09-12T05:16:41.299113",
     "status": "completed"
    },
    "tags": []
   },
   "source": [
    "Insights from this:- \n",
    "1. Passengers had much higher chance of survival around 63 %  if they travelled in first class .\n",
    "2. Passengers who travelled in second class had a survival chance of 47%\n",
    "3. Passengers had much lower chance of survival around 24 % if they travelled in third class ."
   ]
  },
  {
   "cell_type": "code",
   "execution_count": 11,
   "metadata": {
    "execution": {
     "iopub.execute_input": "2020-09-12T05:16:41.492293Z",
     "iopub.status.busy": "2020-09-12T05:16:41.482178Z",
     "iopub.status.idle": "2020-09-12T05:16:41.883459Z",
     "shell.execute_reply": "2020-09-12T05:16:41.882805Z"
    },
    "papermill": {
     "duration": 0.471913,
     "end_time": "2020-09-12T05:16:41.883601",
     "exception": false,
     "start_time": "2020-09-12T05:16:41.411688",
     "status": "completed"
    },
    "tags": []
   },
   "outputs": [
    {
     "data": {
      "text/plain": [
       "<matplotlib.axes._subplots.AxesSubplot at 0x1c93c58d708>"
      ]
     },
     "execution_count": 11,
     "metadata": {},
     "output_type": "execute_result"
    },
    {
     "data": {
      "image/png": "[encoded data removed]",
      "text/plain": [
       "<Figure size 1440x360 with 1 Axes>"
      ]
     },
     "metadata": {},
     "output_type": "display_data"
    }
   ],
   "source": [
    "plt.figure(figsize=(20,5))\n",
    "#sns.set(style=\"darkgrid\")\n",
    "sns.distplot(train['Age'], bins = 80)"
   ]
  },
  {
   "cell_type": "code",
   "execution_count": 13,
   "metadata": {
    "execution": {
     "iopub.execute_input": "2020-09-12T05:16:42.017333Z",
     "iopub.status.busy": "2020-09-12T05:16:42.016563Z",
     "iopub.status.idle": "2020-09-12T05:16:42.075020Z",
     "shell.execute_reply": "2020-09-12T05:16:42.075605Z"
    },
    "papermill": {
     "duration": 0.135005,
     "end_time": "2020-09-12T05:16:42.075768",
     "exception": false,
     "start_time": "2020-09-12T05:16:41.940763",
     "status": "completed"
    },
    "tags": []
   },
   "outputs": [
    {
     "data": {
      "image/png": "[encoded data removed]",
      "text/plain": [
       "<Figure size 432x216 with 1 Axes>"
      ]
     },
     "metadata": {},
     "output_type": "display_data"
    }
   ],
   "source": [
    "def age_pie(x,y,title):\n",
    "    total_010 = train.loc[(train.Age >= x) & (train.Age <= y) ]['Survived'].count()\n",
    "    survived_010 = train.loc[(train.Age <= y) & (train.Age >= x)]['Survived'].sum()\n",
    "    fig, ax = plt.subplots(figsize=(6, 3), subplot_kw=dict(aspect=\"equal\"))\n",
    "    ax.pie(x=[total_010 - survived_010,survived_010],labels = ['dead','Survived'], autopct='%1.1f%%')\n",
    "    ax.set_title(title)\n",
    "age_pie(0,10,'percentage of people died and survived represented in a pie chart between the age of 0 - 10 ')\n"
   ]
  },
  {
   "cell_type": "code",
   "execution_count": 15,
   "metadata": {
    "execution": {
     "iopub.execute_input": "2020-09-12T05:16:42.201585Z",
     "iopub.status.busy": "2020-09-12T05:16:42.200891Z",
     "iopub.status.idle": "2020-09-12T05:16:42.276237Z",
     "shell.execute_reply": "2020-09-12T05:16:42.276870Z"
    },
    "papermill": {
     "duration": 0.14229,
     "end_time": "2020-09-12T05:16:42.277026",
     "exception": false,
     "start_time": "2020-09-12T05:16:42.134736",
     "status": "completed"
    },
    "tags": []
   },
   "outputs": [
    {
     "data": {
      "image/png": "[encoded data removed]",
      "text/plain": [
       "<Figure size 432x216 with 1 Axes>"
      ]
     },
     "metadata": {},
     "output_type": "display_data"
    }
   ],
   "source": [
    "age_pie(10,20,'percentage of people died and survived represented in a pie chart between the age of 10 - 20 ')"
   ]
  },
  {
   "cell_type": "code",
   "execution_count": 14,
   "metadata": {
    "execution": {
     "iopub.execute_input": "2020-09-12T05:16:42.399508Z",
     "iopub.status.busy": "2020-09-12T05:16:42.398880Z",
     "iopub.status.idle": "2020-09-12T05:16:42.473220Z",
     "shell.execute_reply": "2020-09-12T05:16:42.473811Z"
    },
    "papermill": {
     "duration": 0.13779,
     "end_time": "2020-09-12T05:16:42.473980",
     "exception": false,
     "start_time": "2020-09-12T05:16:42.336190",
     "status": "completed"
    },
    "tags": []
   },
   "outputs": [
    {
     "data": {
      "image/png": "[encoded data removed]",
      "text/plain": [
       "<Figure size 432x216 with 1 Axes>"
      ]
     },
     "metadata": {},
     "output_type": "display_data"
    }
   ],
   "source": [
    "age_pie(20,40,'percentage of people died and survived represented in a pie chart between the age of 20 - 30 ')\n"
   ]
  },
  {
   "cell_type": "code",
   "execution_count": 17,
   "metadata": {
    "execution": {
     "iopub.execute_input": "2020-09-12T05:16:42.601656Z",
     "iopub.status.busy": "2020-09-12T05:16:42.600984Z",
     "iopub.status.idle": "2020-09-12T05:16:42.671072Z",
     "shell.execute_reply": "2020-09-12T05:16:42.671701Z"
    },
    "papermill": {
     "duration": 0.137212,
     "end_time": "2020-09-12T05:16:42.671903",
     "exception": false,
     "start_time": "2020-09-12T05:16:42.534691",
     "status": "completed"
    },
    "tags": []
   },
   "outputs": [
    {
     "data": {
      "image/png": "[encoded data removed]",
      "text/plain": [
       "<Figure size 432x216 with 1 Axes>"
      ]
     },
     "metadata": {},
     "output_type": "display_data"
    }
   ],
   "source": [
    "age_pie(30,40,'percentage of people died and survived represented in a pie chart between the age of 30 - 40 ')"
   ]
  },
  {
   "cell_type": "code",
   "execution_count": 18,
   "metadata": {
    "execution": {
     "iopub.execute_input": "2020-09-12T05:16:42.805691Z",
     "iopub.status.busy": "2020-09-12T05:16:42.805020Z",
     "iopub.status.idle": "2020-09-12T05:16:42.882679Z",
     "shell.execute_reply": "2020-09-12T05:16:42.883299Z"
    },
    "papermill": {
     "duration": 0.145965,
     "end_time": "2020-09-12T05:16:42.883475",
     "exception": false,
     "start_time": "2020-09-12T05:16:42.737510",
     "status": "completed"
    },
    "tags": []
   },
   "outputs": [
    {
     "data": {
      "image/png": "[encoded data removed]",
      "text/plain": [
       "<Figure size 432x216 with 1 Axes>"
      ]
     },
     "metadata": {},
     "output_type": "display_data"
    }
   ],
   "source": [
    "age_pie(40,50,'percentage of people died and survived represented in a pie chart between the age of 40 - 50 ')"
   ]
  },
  {
   "cell_type": "code",
   "execution_count": 19,
   "metadata": {
    "execution": {
     "iopub.execute_input": "2020-09-12T05:16:43.021045Z",
     "iopub.status.busy": "2020-09-12T05:16:43.020032Z",
     "iopub.status.idle": "2020-09-12T05:16:43.090895Z",
     "shell.execute_reply": "2020-09-12T05:16:43.091566Z"
    },
    "papermill": {
     "duration": 0.14144,
     "end_time": "2020-09-12T05:16:43.091718",
     "exception": false,
     "start_time": "2020-09-12T05:16:42.950278",
     "status": "completed"
    },
    "tags": []
   },
   "outputs": [
    {
     "data": {
      "image/png": "[encoded data removed]",
      "text/plain": [
       "<Figure size 432x216 with 1 Axes>"
      ]
     },
     "metadata": {},
     "output_type": "display_data"
    }
   ],
   "source": [
    "age_pie(50,60,'percentage of people died and survived represented in a pie chart between the age of 50 - 60 ')"
   ]
  },
  {
   "cell_type": "markdown",
   "metadata": {
    "papermill": {
     "duration": 0.065526,
     "end_time": "2020-09-12T05:16:43.222083",
     "exception": false,
     "start_time": "2020-09-12T05:16:43.156557",
     "status": "completed"
    },
    "tags": []
   },
   "source": [
    "Insights from this - \n",
    "1. People aged 1 to people aged 80 were in the titanic\n",
    "2. Most of the people was between the range of 16 to 40 \n",
    "3. Maximum number of people were 23 or 24 years old. \n",
    "4. Chances of death was maximum betwwen 20 - 30 had a percentage of 65 % \n",
    "5. In the other age groups the chances of death was around 60 % "
   ]
  },
  {
   "cell_type": "markdown",
   "metadata": {
    "papermill": {
     "duration": 0.065345,
     "end_time": "2020-09-12T05:16:43.356331",
     "exception": false,
     "start_time": "2020-09-12T05:16:43.290986",
     "status": "completed"
    },
    "tags": []
   },
   "source": [
    "Here SibSp stands for siblings or spouse and ParCh stands for parents and children. This column shows whether the passenger had any parent or spouse or children or siblings"
   ]
  },
  {
   "cell_type": "code",
   "execution_count": 15,
   "metadata": {},
   "outputs": [
    {
     "data": {
      "text/plain": [
       "7"
      ]
     },
     "execution_count": 15,
     "metadata": {},
     "output_type": "execute_result"
    }
   ],
   "source": [
    "train['SibSp'].nunique()"
   ]
  },
  {
   "cell_type": "code",
   "execution_count": 20,
   "metadata": {
    "execution": {
     "iopub.execute_input": "2020-09-12T05:16:43.488641Z",
     "iopub.status.busy": "2020-09-12T05:16:43.487997Z",
     "iopub.status.idle": "2020-09-12T05:16:43.807248Z",
     "shell.execute_reply": "2020-09-12T05:16:43.807828Z"
    },
    "papermill": {
     "duration": 0.387193,
     "end_time": "2020-09-12T05:16:43.808250",
     "exception": false,
     "start_time": "2020-09-12T05:16:43.421057",
     "status": "completed"
    },
    "tags": []
   },
   "outputs": [
    {
     "data": {
      "image/png": "[encoded data removed]",
      "text/plain": [
       "<Figure size 432x288 with 1 Axes>"
      ]
     },
     "metadata": {},
     "output_type": "display_data"
    }
   ],
   "source": [
    "ax = sns.countplot(train['SibSp'],hue ='Survived',data=train)\n",
    "for p in ax.patches:\n",
    "        ax.annotate(format(p.get_height()), (p.get_x(), p.get_height()+1))\n"
   ]
  },
  {
   "cell_type": "code",
   "execution_count": 21,
   "metadata": {
    "execution": {
     "iopub.execute_input": "2020-09-12T05:16:43.953230Z",
     "iopub.status.busy": "2020-09-12T05:16:43.952053Z",
     "iopub.status.idle": "2020-09-12T05:16:44.235639Z",
     "shell.execute_reply": "2020-09-12T05:16:44.236562Z"
    },
    "papermill": {
     "duration": 0.361695,
     "end_time": "2020-09-12T05:16:44.236746",
     "exception": false,
     "start_time": "2020-09-12T05:16:43.875051",
     "status": "completed"
    },
    "tags": []
   },
   "outputs": [
    {
     "data": {
      "image/png": "[encoded data removed]",
      "text/plain": [
       "<Figure size 432x288 with 1 Axes>"
      ]
     },
     "metadata": {},
     "output_type": "display_data"
    }
   ],
   "source": [
    "ax = sns.countplot(train['Parch'],hue ='Survived',data=train)\n",
    "for p in ax.patches:\n",
    "        ax.annotate(format(p.get_height()), (p.get_x(), p.get_height()+1))\n"
   ]
  },
  {
   "cell_type": "code",
   "execution_count": 16,
   "metadata": {
    "execution": {
     "iopub.execute_input": "2020-09-12T05:16:44.382979Z",
     "iopub.status.busy": "2020-09-12T05:16:44.381978Z",
     "iopub.status.idle": "2020-09-12T05:16:45.112238Z",
     "shell.execute_reply": "2020-09-12T05:16:45.111667Z"
    },
    "papermill": {
     "duration": 0.80642,
     "end_time": "2020-09-12T05:16:45.112369",
     "exception": false,
     "start_time": "2020-09-12T05:16:44.305949",
     "status": "completed"
    },
    "tags": []
   },
   "outputs": [
    {
     "name": "stderr",
     "output_type": "stream",
     "text": [
      "c:\\users\\sayantan\\miniconda3\\lib\\site-packages\\ipykernel_launcher.py:4: MatplotlibDeprecationWarning: Adding an axes using the same arguments as a previous axes currently reuses the earlier instance.  In a future version, a new instance will always be created and returned.  Meanwhile, this warning can be suppressed, and the future behavior ensured, by passing a unique label to each axes instance.\n",
      "  after removing the cwd from sys.path.\n"
     ]
    },
    {
     "data": {
      "image/png": "[encoded data removed]",
      "text/plain": [
       "<Figure size 576x288 with 1 Axes>"
      ]
     },
     "metadata": {},
     "output_type": "display_data"
    }
   ],
   "source": [
    "plt.figure(figsize=(8,4))\n",
    "plt.subplot(122)\n",
    "sns.barplot(train.SibSp, train.Survived)\n",
    "plt.subplot(122)\n",
    "sns.barplot(train.Parch, train.Survived)\n",
    "plt.subplots_adjust(wspace=0.5)\n"
   ]
  },
  {
   "cell_type": "markdown",
   "metadata": {
    "papermill": {
     "duration": 0.067357,
     "end_time": "2020-09-12T05:16:45.247749",
     "exception": false,
     "start_time": "2020-09-12T05:16:45.180392",
     "status": "completed"
    },
    "tags": []
   },
   "source": [
    "Insights from here - \n",
    "1. Most of the people travelled alone or with 1 or 2 sibling or 1 spouse. \n",
    "2. People travelling alone had more chances of not surviving than people travelling with 1 or 2 person. \n",
    "3. Around 75 % of the people travelled alone without parents or children."
   ]
  },
  {
   "cell_type": "markdown",
   "metadata": {
    "papermill": {
     "duration": 0.067335,
     "end_time": "2020-09-12T05:16:45.382785",
     "exception": false,
     "start_time": "2020-09-12T05:16:45.315450",
     "status": "completed"
    },
    "tags": []
   },
   "source": [
    "Lets analyze the fare column and then we will move on to data pre processing "
   ]
  },
  {
   "cell_type": "code",
   "execution_count": 23,
   "metadata": {
    "execution": {
     "iopub.execute_input": "2020-09-12T05:16:45.533002Z",
     "iopub.status.busy": "2020-09-12T05:16:45.531948Z",
     "iopub.status.idle": "2020-09-12T05:16:45.950457Z",
     "shell.execute_reply": "2020-09-12T05:16:45.949539Z"
    },
    "papermill": {
     "duration": 0.500078,
     "end_time": "2020-09-12T05:16:45.950626",
     "exception": false,
     "start_time": "2020-09-12T05:16:45.450548",
     "status": "completed"
    },
    "tags": []
   },
   "outputs": [
    {
     "data": {
      "text/plain": [
       "<matplotlib.axes._subplots.AxesSubplot at 0x7fc15e6c1a10>"
      ]
     },
     "execution_count": 23,
     "metadata": {},
     "output_type": "execute_result"
    },
    {
     "data": {
      "image/png": "[encoded data removed]",
      "text/plain": [
       "<Figure size 1440x360 with 1 Axes>"
      ]
     },
     "metadata": {},
     "output_type": "display_data"
    }
   ],
   "source": [
    "plt.figure(figsize=(20,5))\n",
    "sns.set(style=\"darkgrid\")\n",
    "sns.distplot(train['Fare'])"
   ]
  },
  {
   "cell_type": "markdown",
   "metadata": {
    "papermill": {
     "duration": 0.070705,
     "end_time": "2020-09-12T05:16:46.092797",
     "exception": false,
     "start_time": "2020-09-12T05:16:46.022092",
     "status": "completed"
    },
    "tags": []
   },
   "source": [
    "The kernel density estimation curve shows the distribution of the fare that the passenger has given. "
   ]
  },
  {
   "cell_type": "code",
   "execution_count": 24,
   "metadata": {
    "execution": {
     "iopub.execute_input": "2020-09-12T05:16:46.253132Z",
     "iopub.status.busy": "2020-09-12T05:16:46.251955Z",
     "iopub.status.idle": "2020-09-12T05:16:46.858241Z",
     "shell.execute_reply": "2020-09-12T05:16:46.857613Z"
    },
    "papermill": {
     "duration": 0.694733,
     "end_time": "2020-09-12T05:16:46.858364",
     "exception": false,
     "start_time": "2020-09-12T05:16:46.163631",
     "status": "completed"
    },
    "tags": []
   },
   "outputs": [
    {
     "data": {
      "text/plain": [
       "<seaborn.axisgrid.FacetGrid at 0x7fc15e5cdb50>"
      ]
     },
     "execution_count": 24,
     "metadata": {},
     "output_type": "execute_result"
    },
    {
     "data": {
      "image/png": "[encoded data removed]",
      "text/plain": [
       "<Figure size 917.425x216 with 1 Axes>"
      ]
     },
     "metadata": {},
     "output_type": "display_data"
    }
   ],
   "source": [
    "facet = sns.FacetGrid(train, hue=\"Survived\",aspect=4)\n",
    "facet.map(sns.kdeplot,'Fare',shade= True)\n",
    "facet.set(xlim=(0, train['Fare'].max()))\n",
    "facet.add_legend()"
   ]
  },
  {
   "cell_type": "markdown",
   "metadata": {
    "papermill": {
     "duration": 0.071404,
     "end_time": "2020-09-12T05:16:47.002307",
     "exception": false,
     "start_time": "2020-09-12T05:16:46.930903",
     "status": "completed"
    },
    "tags": []
   },
   "source": [
    "Insights from this - \n",
    "1. So fair prices were more or less around 0 to 50 \n",
    "2. Maximum number of people paid a fare of  10 \n",
    "3. Very few people paid a fare more than  500 "
   ]
  },
  {
   "cell_type": "markdown",
   "metadata": {
    "papermill": {
     "duration": 0.070053,
     "end_time": "2020-09-12T05:16:47.143738",
     "exception": false,
     "start_time": "2020-09-12T05:16:47.073685",
     "status": "completed"
    },
    "tags": []
   },
   "source": [
    "So after the exploration I have selected 6 features which are Pclass, Age, Gender, fare, SibSp(sibling or spouse ) and Parch ( parent or children)\n",
    "\n",
    "Features Ignored - \n",
    "1. passengerID - I don't think passenger Id has much importance in the deciding whether the passenger died or not \n",
    "2. Name - Same reason as above \n",
    "3. Cabin - I rejected it as most of the cabin value is missing. \n",
    "4. Embarked - Embarked means from where the passenger has boarded the titanic,it may have some indirect effect but surely will not effect the prediction directly"
   ]
  },
  {
   "cell_type": "markdown",
   "metadata": {
    "papermill": {
     "duration": 0.072113,
     "end_time": "2020-09-12T05:16:47.289759",
     "exception": false,
     "start_time": "2020-09-12T05:16:47.217646",
     "status": "completed"
    },
    "tags": []
   },
   "source": [
    "## Data cleaning and processing"
   ]
  },
  {
   "cell_type": "code",
   "execution_count": 9,
   "metadata": {
    "execution": {
     "iopub.execute_input": "2020-09-12T05:16:47.488529Z",
     "iopub.status.busy": "2020-09-12T05:16:47.487557Z",
     "iopub.status.idle": "2020-09-12T05:16:47.829900Z",
     "shell.execute_reply": "2020-09-12T05:16:47.829084Z"
    },
    "papermill": {
     "duration": 0.419281,
     "end_time": "2020-09-12T05:16:47.830034",
     "exception": false,
     "start_time": "2020-09-12T05:16:47.410753",
     "status": "completed"
    },
    "tags": []
   },
   "outputs": [
    {
     "data": {
      "text/plain": [
       "<matplotlib.axes._subplots.AxesSubplot at 0x2b66ccc01c8>"
      ]
     },
     "execution_count": 9,
     "metadata": {},
     "output_type": "execute_result"
    },
    {
     "data": {
      "image/png": "[encoded data removed]",
      "text/plain": [
       "<Figure size 864x576 with 1 Axes>"
      ]
     },
     "metadata": {
      "needs_background": "light"
     },
     "output_type": "display_data"
    }
   ],
   "source": [
    "plt.figure(figsize=(12,8))\n",
    "\n",
    "sns.heatmap(train.isnull(),cbar=False, yticklabels=False, cmap='viridis')"
   ]
  },
  {
   "cell_type": "code",
   "execution_count": 10,
   "metadata": {
    "execution": {
     "iopub.execute_input": "2020-09-12T05:16:47.983913Z",
     "iopub.status.busy": "2020-09-12T05:16:47.982786Z",
     "iopub.status.idle": "2020-09-12T05:16:47.986794Z",
     "shell.execute_reply": "2020-09-12T05:16:47.987404Z"
    },
    "papermill": {
     "duration": 0.082089,
     "end_time": "2020-09-12T05:16:47.987558",
     "exception": false,
     "start_time": "2020-09-12T05:16:47.905469",
     "status": "completed"
    },
    "tags": []
   },
   "outputs": [
    {
     "data": {
      "text/plain": [
       "29.69911764705882"
      ]
     },
     "execution_count": 10,
     "metadata": {},
     "output_type": "execute_result"
    }
   ],
   "source": [
    "train.Age.mean()"
   ]
  },
  {
   "cell_type": "markdown",
   "metadata": {
    "papermill": {
     "duration": 0.076899,
     "end_time": "2020-09-12T05:16:48.137882",
     "exception": false,
     "start_time": "2020-09-12T05:16:48.060983",
     "status": "completed"
    },
    "tags": []
   },
   "source": [
    "Lets start handling the missing values from the Age column"
   ]
  },
  {
   "cell_type": "code",
   "execution_count": 11,
   "metadata": {
    "execution": {
     "iopub.execute_input": "2020-09-12T05:16:48.291511Z",
     "iopub.status.busy": "2020-09-12T05:16:48.290788Z",
     "iopub.status.idle": "2020-09-12T05:16:48.295296Z",
     "shell.execute_reply": "2020-09-12T05:16:48.295801Z"
    },
    "papermill": {
     "duration": 0.083954,
     "end_time": "2020-09-12T05:16:48.295985",
     "exception": false,
     "start_time": "2020-09-12T05:16:48.212031",
     "status": "completed"
    },
    "tags": []
   },
   "outputs": [
    {
     "data": {
      "text/plain": [
       "177"
      ]
     },
     "execution_count": 11,
     "metadata": {},
     "output_type": "execute_result"
    }
   ],
   "source": [
    "train.Age.isnull().sum()"
   ]
  },
  {
   "cell_type": "markdown",
   "metadata": {
    "papermill": {
     "duration": 0.074509,
     "end_time": "2020-09-12T05:16:48.443395",
     "exception": false,
     "start_time": "2020-09-12T05:16:48.368886",
     "status": "completed"
    },
    "tags": []
   },
   "source": [
    "Now there are lots of ways to handle the missing values, for example I can replace the missing values with the help of mean or median, or can replace with random samples or we replace it with some values at the end of the distribution. \n",
    "In this one what I am going to do is basically replace the age with the help of mean but based on their Pclass.\n",
    "For example, the mean of the Age of people in class 1 was around 37 so the person whose age was missing and he was in class 1 I will replace it with 37 instead of the overall mean age which is 29. "
   ]
  },
  {
   "cell_type": "code",
   "execution_count": 12,
   "metadata": {
    "execution": {
     "iopub.execute_input": "2020-09-12T05:16:48.598616Z",
     "iopub.status.busy": "2020-09-12T05:16:48.597519Z",
     "iopub.status.idle": "2020-09-12T05:16:48.603711Z",
     "shell.execute_reply": "2020-09-12T05:16:48.603038Z"
    },
    "papermill": {
     "duration": 0.088132,
     "end_time": "2020-09-12T05:16:48.603871",
     "exception": false,
     "start_time": "2020-09-12T05:16:48.515739",
     "status": "completed"
    },
    "tags": []
   },
   "outputs": [
    {
     "data": {
      "text/plain": [
       "Pclass\n",
       "1    38.233441\n",
       "2    29.877630\n",
       "3    25.140620\n",
       "Name: Age, dtype: float64"
      ]
     },
     "execution_count": 12,
     "metadata": {},
     "output_type": "execute_result"
    }
   ],
   "source": [
    "train.groupby('Pclass').Age.mean()"
   ]
  },
  {
   "cell_type": "code",
   "execution_count": 13,
   "metadata": {
    "execution": {
     "iopub.execute_input": "2020-09-12T05:16:48.773255Z",
     "iopub.status.busy": "2020-09-12T05:16:48.772255Z",
     "iopub.status.idle": "2020-09-12T05:16:48.775439Z",
     "shell.execute_reply": "2020-09-12T05:16:48.774790Z"
    },
    "papermill": {
     "duration": 0.096146,
     "end_time": "2020-09-12T05:16:48.775556",
     "exception": false,
     "start_time": "2020-09-12T05:16:48.679410",
     "status": "completed"
    },
    "tags": []
   },
   "outputs": [],
   "source": [
    "def inpute_age(cols):\n",
    "    Age = cols[0]\n",
    "    Pclass = cols[1]\n",
    "    \n",
    "    if pd.isnull(Age):\n",
    "        if Pclass == 1:\n",
    "            return 38\n",
    "        elif Pclass == 2:\n",
    "            return 30\n",
    "        else: return 25\n",
    "    else: return Age"
   ]
  },
  {
   "cell_type": "code",
   "execution_count": 14,
   "metadata": {
    "execution": {
     "iopub.execute_input": "2020-09-12T05:16:48.943388Z",
     "iopub.status.busy": "2020-09-12T05:16:48.942702Z",
     "iopub.status.idle": "2020-09-12T05:16:48.964937Z",
     "shell.execute_reply": "2020-09-12T05:16:48.964184Z"
    },
    "papermill": {
     "duration": 0.104822,
     "end_time": "2020-09-12T05:16:48.965059",
     "exception": false,
     "start_time": "2020-09-12T05:16:48.860237",
     "status": "completed"
    },
    "tags": []
   },
   "outputs": [],
   "source": [
    "train['Age']=train[['Age','Pclass']].apply(inpute_age, axis=1)"
   ]
  },
  {
   "cell_type": "code",
   "execution_count": 15,
   "metadata": {
    "execution": {
     "iopub.execute_input": "2020-09-12T05:16:49.129458Z",
     "iopub.status.busy": "2020-09-12T05:16:49.128571Z",
     "iopub.status.idle": "2020-09-12T05:16:49.354880Z",
     "shell.execute_reply": "2020-09-12T05:16:49.355570Z"
    },
    "papermill": {
     "duration": 0.310907,
     "end_time": "2020-09-12T05:16:49.355743",
     "exception": false,
     "start_time": "2020-09-12T05:16:49.044836",
     "status": "completed"
    },
    "tags": []
   },
   "outputs": [
    {
     "data": {
      "text/plain": [
       "<matplotlib.axes._subplots.AxesSubplot at 0x2b66cd59e88>"
      ]
     },
     "execution_count": 15,
     "metadata": {},
     "output_type": "execute_result"
    },
    {
     "data": {
      "image/png": "[encoded data removed]",
      "text/plain": [
       "<Figure size 864x576 with 1 Axes>"
      ]
     },
     "metadata": {
      "needs_background": "light"
     },
     "output_type": "display_data"
    }
   ],
   "source": [
    "plt.figure(figsize=(12,8))\n",
    "sns.heatmap(train.isnull(),cbar=False, yticklabels=False, cmap='viridis')"
   ]
  },
  {
   "cell_type": "markdown",
   "metadata": {
    "papermill": {
     "duration": 0.077968,
     "end_time": "2020-09-12T05:16:49.512516",
     "exception": false,
     "start_time": "2020-09-12T05:16:49.434548",
     "status": "completed"
    },
    "tags": []
   },
   "source": [
    "#### So I have cleaned the Age column.\n",
    "Next what I will do is basically drop the embarked column because there is not much direct correlation to it with the survival of the passenger. "
   ]
  },
  {
   "cell_type": "code",
   "execution_count": 16,
   "metadata": {
    "execution": {
     "iopub.execute_input": "2020-09-12T05:16:49.678053Z",
     "iopub.status.busy": "2020-09-12T05:16:49.677275Z",
     "iopub.status.idle": "2020-09-12T05:16:49.680377Z",
     "shell.execute_reply": "2020-09-12T05:16:49.679658Z"
    },
    "papermill": {
     "duration": 0.089399,
     "end_time": "2020-09-12T05:16:49.680491",
     "exception": false,
     "start_time": "2020-09-12T05:16:49.591092",
     "status": "completed"
    },
    "tags": []
   },
   "outputs": [],
   "source": [
    "train.drop('Embarked', axis=1, inplace=True)"
   ]
  },
  {
   "cell_type": "code",
   "execution_count": 17,
   "metadata": {
    "execution": {
     "iopub.execute_input": "2020-09-12T05:16:49.860719Z",
     "iopub.status.busy": "2020-09-12T05:16:49.859482Z",
     "iopub.status.idle": "2020-09-12T05:16:50.095619Z",
     "shell.execute_reply": "2020-09-12T05:16:50.094891Z"
    },
    "papermill": {
     "duration": 0.33914,
     "end_time": "2020-09-12T05:16:50.095773",
     "exception": false,
     "start_time": "2020-09-12T05:16:49.756633",
     "status": "completed"
    },
    "tags": []
   },
   "outputs": [
    {
     "data": {
      "text/plain": [
       "<matplotlib.axes._subplots.AxesSubplot at 0x2b66cdc1988>"
      ]
     },
     "execution_count": 17,
     "metadata": {},
     "output_type": "execute_result"
    },
    {
     "data": {
      "image/png": "[encoded data removed]",
      "text/plain": [
       "<Figure size 864x432 with 1 Axes>"
      ]
     },
     "metadata": {
      "needs_background": "light"
     },
     "output_type": "display_data"
    }
   ],
   "source": [
    "plt.figure(figsize=(12,6))\n",
    "sns.heatmap(train.isnull(),cbar=False, yticklabels=False, cmap='viridis')"
   ]
  },
  {
   "cell_type": "markdown",
   "metadata": {
    "papermill": {
     "duration": 0.094502,
     "end_time": "2020-09-12T05:16:50.273337",
     "exception": false,
     "start_time": "2020-09-12T05:16:50.178835",
     "status": "completed"
    },
    "tags": []
   },
   "source": [
    "Now lets move onto the Cabin column which is bit trcky to deal with because there is a correlation between the missing values and survival. The first question that comes to the mind is that why such a huge number of data for this column is missing. This is cannot be because of human error or miss calculation. But the if we replace the missing values with the highest number of occuring one then it will make the dataset imbalanced. And will not have much advantage.\n"
   ]
  },
  {
   "cell_type": "code",
   "execution_count": 18,
   "metadata": {
    "execution": {
     "iopub.execute_input": "2020-09-12T05:16:50.447997Z",
     "iopub.status.busy": "2020-09-12T05:16:50.446979Z",
     "iopub.status.idle": "2020-09-12T05:16:50.451293Z",
     "shell.execute_reply": "2020-09-12T05:16:50.452023Z"
    },
    "papermill": {
     "duration": 0.094611,
     "end_time": "2020-09-12T05:16:50.452190",
     "exception": false,
     "start_time": "2020-09-12T05:16:50.357579",
     "status": "completed"
    },
    "tags": []
   },
   "outputs": [
    {
     "data": {
      "text/plain": [
       "B96 B98        4\n",
       "G6             4\n",
       "C23 C25 C27    4\n",
       "D              3\n",
       "F2             3\n",
       "              ..\n",
       "D10 D12        1\n",
       "B82 B84        1\n",
       "B73            1\n",
       "B19            1\n",
       "A24            1\n",
       "Name: Cabin, Length: 147, dtype: int64"
      ]
     },
     "execution_count": 18,
     "metadata": {},
     "output_type": "execute_result"
    }
   ],
   "source": [
    "train.Cabin.value_counts()"
   ]
  },
  {
   "cell_type": "markdown",
   "metadata": {
    "papermill": {
     "duration": 0.079217,
     "end_time": "2020-09-12T05:16:50.610469",
     "exception": false,
     "start_time": "2020-09-12T05:16:50.531252",
     "status": "completed"
    },
    "tags": []
   },
   "source": [
    "Now the column is a categorical variable so i cannot make mean median imputation. So instead I will drop the column"
   ]
  },
  {
   "cell_type": "code",
   "execution_count": 19,
   "metadata": {
    "execution": {
     "iopub.execute_input": "2020-09-12T05:16:50.774715Z",
     "iopub.status.busy": "2020-09-12T05:16:50.773793Z",
     "iopub.status.idle": "2020-09-12T05:16:50.775962Z",
     "shell.execute_reply": "2020-09-12T05:16:50.776620Z"
    },
    "papermill": {
     "duration": 0.089045,
     "end_time": "2020-09-12T05:16:50.776789",
     "exception": false,
     "start_time": "2020-09-12T05:16:50.687744",
     "status": "completed"
    },
    "tags": []
   },
   "outputs": [],
   "source": [
    "train.drop('Cabin', axis=1, inplace=True)"
   ]
  },
  {
   "cell_type": "code",
   "execution_count": 20,
   "metadata": {
    "execution": {
     "iopub.execute_input": "2020-09-12T05:16:50.945463Z",
     "iopub.status.busy": "2020-09-12T05:16:50.944631Z",
     "iopub.status.idle": "2020-09-12T05:16:51.146928Z",
     "shell.execute_reply": "2020-09-12T05:16:51.147430Z"
    },
    "papermill": {
     "duration": 0.287142,
     "end_time": "2020-09-12T05:16:51.147597",
     "exception": false,
     "start_time": "2020-09-12T05:16:50.860455",
     "status": "completed"
    },
    "tags": []
   },
   "outputs": [
    {
     "data": {
      "text/plain": [
       "<matplotlib.axes._subplots.AxesSubplot at 0x2b66ce19d08>"
      ]
     },
     "execution_count": 20,
     "metadata": {},
     "output_type": "execute_result"
    },
    {
     "data": {
      "image/png": "[encoded data removed]",
      "text/plain": [
       "<Figure size 864x432 with 1 Axes>"
      ]
     },
     "metadata": {
      "needs_background": "light"
     },
     "output_type": "display_data"
    }
   ],
   "source": [
    "plt.figure(figsize=(12,6))\n",
    "sns.heatmap(train.isnull(),cbar=False, yticklabels=False, cmap='viridis')"
   ]
  },
  {
   "cell_type": "code",
   "execution_count": 21,
   "metadata": {
    "execution": {
     "iopub.execute_input": "2020-09-12T05:16:51.316101Z",
     "iopub.status.busy": "2020-09-12T05:16:51.315096Z",
     "iopub.status.idle": "2020-09-12T05:16:51.330176Z",
     "shell.execute_reply": "2020-09-12T05:16:51.329090Z"
    },
    "papermill": {
     "duration": 0.097283,
     "end_time": "2020-09-12T05:16:51.330363",
     "exception": false,
     "start_time": "2020-09-12T05:16:51.233080",
     "status": "completed"
    },
    "tags": []
   },
   "outputs": [
    {
     "name": "stdout",
     "output_type": "stream",
     "text": [
      "<class 'pandas.core.frame.DataFrame'>\n",
      "RangeIndex: 891 entries, 0 to 890\n",
      "Data columns (total 10 columns):\n",
      " #   Column       Non-Null Count  Dtype  \n",
      "---  ------       --------------  -----  \n",
      " 0   PassengerId  891 non-null    int64  \n",
      " 1   Survived     891 non-null    int64  \n",
      " 2   Pclass       891 non-null    int64  \n",
      " 3   Name         891 non-null    object \n",
      " 4   Sex          891 non-null    object \n",
      " 5   Age          891 non-null    float64\n",
      " 6   SibSp        891 non-null    int64  \n",
      " 7   Parch        891 non-null    int64  \n",
      " 8   Ticket       891 non-null    object \n",
      " 9   Fare         891 non-null    float64\n",
      "dtypes: float64(2), int64(5), object(3)\n",
      "memory usage: 69.7+ KB\n"
     ]
    }
   ],
   "source": [
    "train.info()"
   ]
  },
  {
   "cell_type": "code",
   "execution_count": 22,
   "metadata": {
    "execution": {
     "iopub.execute_input": "2020-09-12T05:16:51.494131Z",
     "iopub.status.busy": "2020-09-12T05:16:51.493422Z",
     "iopub.status.idle": "2020-09-12T05:16:51.500536Z",
     "shell.execute_reply": "2020-09-12T05:16:51.499993Z"
    },
    "papermill": {
     "duration": 0.08975,
     "end_time": "2020-09-12T05:16:51.500661",
     "exception": false,
     "start_time": "2020-09-12T05:16:51.410911",
     "status": "completed"
    },
    "tags": []
   },
   "outputs": [],
   "source": [
    "\n",
    "train['Male'] = pd.get_dummies(train['Sex'], drop_first=True)"
   ]
  },
  {
   "cell_type": "code",
   "execution_count": 23,
   "metadata": {
    "execution": {
     "iopub.execute_input": "2020-09-12T05:16:51.668935Z",
     "iopub.status.busy": "2020-09-12T05:16:51.668215Z",
     "iopub.status.idle": "2020-09-12T05:16:51.670252Z",
     "shell.execute_reply": "2020-09-12T05:16:51.670727Z"
    },
    "papermill": {
     "duration": 0.089837,
     "end_time": "2020-09-12T05:16:51.670898",
     "exception": false,
     "start_time": "2020-09-12T05:16:51.581061",
     "status": "completed"
    },
    "tags": []
   },
   "outputs": [],
   "source": [
    "train.drop(['PassengerId', 'Name', 'Sex', 'Ticket'], axis=1, inplace=True)"
   ]
  },
  {
   "cell_type": "code",
   "execution_count": 24,
   "metadata": {
    "execution": {
     "iopub.execute_input": "2020-09-12T05:16:51.847687Z",
     "iopub.status.busy": "2020-09-12T05:16:51.846968Z",
     "iopub.status.idle": "2020-09-12T05:16:51.860296Z",
     "shell.execute_reply": "2020-09-12T05:16:51.860841Z"
    },
    "papermill": {
     "duration": 0.102193,
     "end_time": "2020-09-12T05:16:51.861014",
     "exception": false,
     "start_time": "2020-09-12T05:16:51.758821",
     "status": "completed"
    },
    "tags": []
   },
   "outputs": [
    {
     "data": {
      "text/html": [
       "<div>\n",
       "<style scoped>\n",
       "    .dataframe tbody tr th:only-of-type {\n",
       "        vertical-align: middle;\n",
       "    }\n",
       "\n",
       "    .dataframe tbody tr th {\n",
       "        vertical-align: top;\n",
       "    }\n",
       "\n",
       "    .dataframe thead th {\n",
       "        text-align: right;\n",
       "    }\n",
       "</style>\n",
       "<table border=\"1\" class=\"dataframe\">\n",
       "  <thead>\n",
       "    <tr style=\"text-align: right;\">\n",
       "      <th></th>\n",
       "      <th>Survived</th>\n",
       "      <th>Pclass</th>\n",
       "      <th>Age</th>\n",
       "      <th>SibSp</th>\n",
       "      <th>Parch</th>\n",
       "      <th>Fare</th>\n",
       "      <th>Male</th>\n",
       "    </tr>\n",
       "  </thead>\n",
       "  <tbody>\n",
       "    <tr>\n",
       "      <th>0</th>\n",
       "      <td>0</td>\n",
       "      <td>3</td>\n",
       "      <td>22.0</td>\n",
       "      <td>1</td>\n",
       "      <td>0</td>\n",
       "      <td>7.2500</td>\n",
       "      <td>1</td>\n",
       "    </tr>\n",
       "    <tr>\n",
       "      <th>1</th>\n",
       "      <td>1</td>\n",
       "      <td>1</td>\n",
       "      <td>38.0</td>\n",
       "      <td>1</td>\n",
       "      <td>0</td>\n",
       "      <td>71.2833</td>\n",
       "      <td>0</td>\n",
       "    </tr>\n",
       "    <tr>\n",
       "      <th>2</th>\n",
       "      <td>1</td>\n",
       "      <td>3</td>\n",
       "      <td>26.0</td>\n",
       "      <td>0</td>\n",
       "      <td>0</td>\n",
       "      <td>7.9250</td>\n",
       "      <td>0</td>\n",
       "    </tr>\n",
       "    <tr>\n",
       "      <th>3</th>\n",
       "      <td>1</td>\n",
       "      <td>1</td>\n",
       "      <td>35.0</td>\n",
       "      <td>1</td>\n",
       "      <td>0</td>\n",
       "      <td>53.1000</td>\n",
       "      <td>0</td>\n",
       "    </tr>\n",
       "    <tr>\n",
       "      <th>4</th>\n",
       "      <td>0</td>\n",
       "      <td>3</td>\n",
       "      <td>35.0</td>\n",
       "      <td>0</td>\n",
       "      <td>0</td>\n",
       "      <td>8.0500</td>\n",
       "      <td>1</td>\n",
       "    </tr>\n",
       "  </tbody>\n",
       "</table>\n",
       "</div>"
      ],
      "text/plain": [
       "   Survived  Pclass   Age  SibSp  Parch     Fare  Male\n",
       "0         0       3  22.0      1      0   7.2500     1\n",
       "1         1       1  38.0      1      0  71.2833     0\n",
       "2         1       3  26.0      0      0   7.9250     0\n",
       "3         1       1  35.0      1      0  53.1000     0\n",
       "4         0       3  35.0      0      0   8.0500     1"
      ]
     },
     "execution_count": 24,
     "metadata": {},
     "output_type": "execute_result"
    }
   ],
   "source": [
    "train.head()"
   ]
  },
  {
   "cell_type": "code",
   "execution_count": 25,
   "metadata": {
    "execution": {
     "iopub.execute_input": "2020-09-12T05:16:52.035071Z",
     "iopub.status.busy": "2020-09-12T05:16:52.034311Z",
     "iopub.status.idle": "2020-09-12T05:16:52.037896Z",
     "shell.execute_reply": "2020-09-12T05:16:52.040809Z"
    },
    "papermill": {
     "duration": 0.098106,
     "end_time": "2020-09-12T05:16:52.040999",
     "exception": false,
     "start_time": "2020-09-12T05:16:51.942893",
     "status": "completed"
    },
    "tags": []
   },
   "outputs": [
    {
     "name": "stdout",
     "output_type": "stream",
     "text": [
      "<class 'pandas.core.frame.DataFrame'>\n",
      "RangeIndex: 891 entries, 0 to 890\n",
      "Data columns (total 7 columns):\n",
      " #   Column    Non-Null Count  Dtype  \n",
      "---  ------    --------------  -----  \n",
      " 0   Survived  891 non-null    int64  \n",
      " 1   Pclass    891 non-null    int64  \n",
      " 2   Age       891 non-null    float64\n",
      " 3   SibSp     891 non-null    int64  \n",
      " 4   Parch     891 non-null    int64  \n",
      " 5   Fare      891 non-null    float64\n",
      " 6   Male      891 non-null    uint8  \n",
      "dtypes: float64(2), int64(4), uint8(1)\n",
      "memory usage: 42.8 KB\n"
     ]
    }
   ],
   "source": [
    "train.info()"
   ]
  },
  {
   "cell_type": "code",
   "execution_count": 26,
   "metadata": {
    "execution": {
     "iopub.execute_input": "2020-09-12T05:16:52.214032Z",
     "iopub.status.busy": "2020-09-12T05:16:52.213192Z",
     "iopub.status.idle": "2020-09-12T05:16:52.227320Z",
     "shell.execute_reply": "2020-09-12T05:16:52.228033Z"
    },
    "papermill": {
     "duration": 0.102277,
     "end_time": "2020-09-12T05:16:52.228199",
     "exception": false,
     "start_time": "2020-09-12T05:16:52.125922",
     "status": "completed"
    },
    "tags": []
   },
   "outputs": [
    {
     "name": "stdout",
     "output_type": "stream",
     "text": [
      "<class 'pandas.core.frame.DataFrame'>\n",
      "RangeIndex: 891 entries, 0 to 890\n",
      "Data columns (total 7 columns):\n",
      " #   Column    Non-Null Count  Dtype  \n",
      "---  ------    --------------  -----  \n",
      " 0   Survived  891 non-null    int64  \n",
      " 1   Pclass    891 non-null    int64  \n",
      " 2   Age       891 non-null    float64\n",
      " 3   SibSp     891 non-null    int64  \n",
      " 4   Parch     891 non-null    int64  \n",
      " 5   Fare      891 non-null    float64\n",
      " 6   Male      891 non-null    uint8  \n",
      "dtypes: float64(2), int64(4), uint8(1)\n",
      "memory usage: 42.8 KB\n"
     ]
    }
   ],
   "source": [
    "train.info()"
   ]
  },
  {
   "cell_type": "code",
   "execution_count": 27,
   "metadata": {
    "execution": {
     "iopub.execute_input": "2020-09-12T05:16:52.411934Z",
     "iopub.status.busy": "2020-09-12T05:16:52.411196Z",
     "iopub.status.idle": "2020-09-12T05:16:52.414623Z",
     "shell.execute_reply": "2020-09-12T05:16:52.413980Z"
    },
    "papermill": {
     "duration": 0.09576,
     "end_time": "2020-09-12T05:16:52.414732",
     "exception": false,
     "start_time": "2020-09-12T05:16:52.318972",
     "status": "completed"
    },
    "tags": []
   },
   "outputs": [],
   "source": [
    "#Seperate the feature columns from the target column\n",
    "X = train.drop('Survived', axis=1)\n",
    "y = train['Survived']"
   ]
  },
  {
   "cell_type": "code",
   "execution_count": 28,
   "metadata": {
    "execution": {
     "iopub.execute_input": "2020-09-12T05:16:52.601204Z",
     "iopub.status.busy": "2020-09-12T05:16:52.600255Z",
     "iopub.status.idle": "2020-09-12T05:16:52.604716Z",
     "shell.execute_reply": "2020-09-12T05:16:52.605745Z"
    },
    "papermill": {
     "duration": 0.105441,
     "end_time": "2020-09-12T05:16:52.606013",
     "exception": false,
     "start_time": "2020-09-12T05:16:52.500572",
     "status": "completed"
    },
    "tags": []
   },
   "outputs": [
    {
     "name": "stdout",
     "output_type": "stream",
     "text": [
      "<class 'pandas.core.frame.DataFrame'>\n",
      "RangeIndex: 891 entries, 0 to 890\n",
      "Data columns (total 6 columns):\n",
      " #   Column  Non-Null Count  Dtype  \n",
      "---  ------  --------------  -----  \n",
      " 0   Pclass  891 non-null    int64  \n",
      " 1   Age     891 non-null    float64\n",
      " 2   SibSp   891 non-null    int64  \n",
      " 3   Parch   891 non-null    int64  \n",
      " 4   Fare    891 non-null    float64\n",
      " 5   Male    891 non-null    uint8  \n",
      "dtypes: float64(2), int64(3), uint8(1)\n",
      "memory usage: 35.8 KB\n"
     ]
    }
   ],
   "source": [
    "X.info()"
   ]
  },
  {
   "cell_type": "code",
   "execution_count": 29,
   "metadata": {
    "execution": {
     "iopub.execute_input": "2020-09-12T05:16:52.785682Z",
     "iopub.status.busy": "2020-09-12T05:16:52.784490Z",
     "iopub.status.idle": "2020-09-12T05:16:52.789897Z",
     "shell.execute_reply": "2020-09-12T05:16:52.789126Z"
    },
    "papermill": {
     "duration": 0.097031,
     "end_time": "2020-09-12T05:16:52.790020",
     "exception": false,
     "start_time": "2020-09-12T05:16:52.692989",
     "status": "completed"
    },
    "tags": []
   },
   "outputs": [
    {
     "data": {
      "text/plain": [
       "0      0\n",
       "1      1\n",
       "2      1\n",
       "3      1\n",
       "4      0\n",
       "      ..\n",
       "886    0\n",
       "887    1\n",
       "888    0\n",
       "889    1\n",
       "890    0\n",
       "Name: Survived, Length: 891, dtype: int64"
      ]
     },
     "execution_count": 29,
     "metadata": {},
     "output_type": "execute_result"
    }
   ],
   "source": [
    "y"
   ]
  },
  {
   "cell_type": "code",
   "execution_count": 30,
   "metadata": {
    "execution": {
     "iopub.execute_input": "2020-09-12T05:16:52.971741Z",
     "iopub.status.busy": "2020-09-12T05:16:52.970953Z",
     "iopub.status.idle": "2020-09-12T05:16:52.976242Z",
     "shell.execute_reply": "2020-09-12T05:16:52.975583Z"
    },
    "papermill": {
     "duration": 0.099328,
     "end_time": "2020-09-12T05:16:52.976356",
     "exception": false,
     "start_time": "2020-09-12T05:16:52.877028",
     "status": "completed"
    },
    "tags": []
   },
   "outputs": [],
   "source": [
    "x_train, x_test,y_train, y_test = train_test_split(X, y, train_size=0.8, random_state=0)"
   ]
  },
  {
   "cell_type": "code",
   "execution_count": 31,
   "metadata": {
    "execution": {
     "iopub.execute_input": "2020-09-12T05:16:53.155055Z",
     "iopub.status.busy": "2020-09-12T05:16:53.154221Z",
     "iopub.status.idle": "2020-09-12T05:16:53.401800Z",
     "shell.execute_reply": "2020-09-12T05:16:53.401102Z"
    },
    "papermill": {
     "duration": 0.338334,
     "end_time": "2020-09-12T05:16:53.401965",
     "exception": false,
     "start_time": "2020-09-12T05:16:53.063631",
     "status": "completed"
    },
    "tags": []
   },
   "outputs": [
    {
     "data": {
      "text/plain": [
       "RandomForestClassifier(bootstrap=True, ccp_alpha=0.0, class_weight=None,\n",
       "                       criterion='gini', max_depth=None, max_features='auto',\n",
       "                       max_leaf_nodes=None, max_samples=None,\n",
       "                       min_impurity_decrease=0.0, min_impurity_split=None,\n",
       "                       min_samples_leaf=1, min_samples_split=2,\n",
       "                       min_weight_fraction_leaf=0.0, n_estimators=14, n_jobs=-1,\n",
       "                       oob_score=False, random_state=None, verbose=0,\n",
       "                       warm_start=False)"
      ]
     },
     "execution_count": 31,
     "metadata": {},
     "output_type": "execute_result"
    }
   ],
   "source": [
    "from sklearn.ensemble import RandomForestClassifier\n",
    "clf = RandomForestClassifier(n_jobs=-1, n_estimators=14)\n",
    "clf.fit(x_train,y_train)"
   ]
  },
  {
   "cell_type": "code",
   "execution_count": 33,
   "metadata": {
    "execution": {
     "iopub.execute_input": "2020-09-12T05:16:53.579206Z",
     "iopub.status.busy": "2020-09-12T05:16:53.578499Z",
     "iopub.status.idle": "2020-09-12T05:16:53.686081Z",
     "shell.execute_reply": "2020-09-12T05:16:53.685517Z"
    },
    "papermill": {
     "duration": 0.199633,
     "end_time": "2020-09-12T05:16:53.686203",
     "exception": false,
     "start_time": "2020-09-12T05:16:53.486570",
     "status": "completed"
    },
    "tags": []
   },
   "outputs": [
    {
     "name": "stdout",
     "output_type": "stream",
     "text": [
      "accuracy 84.0\n"
     ]
    }
   ],
   "source": [
    "score = clf.score(x_test,y_test)\n",
    "print(\"accuracy\", round(score,2)*100)"
   ]
  },
  {
   "cell_type": "code",
   "execution_count": 49,
   "metadata": {
    "execution": {
     "iopub.execute_input": "2020-09-12T05:16:53.870418Z",
     "iopub.status.busy": "2020-09-12T05:16:53.869659Z",
     "iopub.status.idle": "2020-09-12T05:16:53.901993Z",
     "shell.execute_reply": "2020-09-12T05:16:53.901396Z"
    },
    "papermill": {
     "duration": 0.130286,
     "end_time": "2020-09-12T05:16:53.902124",
     "exception": false,
     "start_time": "2020-09-12T05:16:53.771838",
     "status": "completed"
    },
    "tags": []
   },
   "outputs": [
    {
     "data": {
      "text/plain": [
       "Pipeline(steps=[('standardscaler', StandardScaler()),\n",
       "                ('svc', SVC(gamma='auto'))])"
      ]
     },
     "execution_count": 49,
     "metadata": {},
     "output_type": "execute_result"
    }
   ],
   "source": [
    "from sklearn.pipeline import make_pipeline\n",
    "from sklearn.preprocessing import StandardScaler\n",
    "from sklearn.svm import SVC\n",
    "clf = make_pipeline(StandardScaler(), SVC(gamma='auto'))\n",
    "clf.fit(x_train, y_train)"
   ]
  },
  {
   "cell_type": "code",
   "execution_count": 50,
   "metadata": {
    "execution": {
     "iopub.execute_input": "2020-09-12T05:16:54.084100Z",
     "iopub.status.busy": "2020-09-12T05:16:54.083346Z",
     "iopub.status.idle": "2020-09-12T05:16:54.091756Z",
     "shell.execute_reply": "2020-09-12T05:16:54.092296Z"
    },
    "papermill": {
     "duration": 0.102211,
     "end_time": "2020-09-12T05:16:54.092466",
     "exception": false,
     "start_time": "2020-09-12T05:16:53.990255",
     "status": "completed"
    },
    "tags": []
   },
   "outputs": [
    {
     "name": "stdout",
     "output_type": "stream",
     "text": [
      "accuracy 80.0\n"
     ]
    }
   ],
   "source": [
    "score = clf.score(x_test,y_test)\n",
    "print(\"accuracy\", round(score,2)*100)"
   ]
  },
  {
   "cell_type": "code",
   "execution_count": 51,
   "metadata": {
    "execution": {
     "iopub.execute_input": "2020-09-12T05:16:54.271653Z",
     "iopub.status.busy": "2020-09-12T05:16:54.270551Z",
     "iopub.status.idle": "2020-09-12T05:16:54.279244Z",
     "shell.execute_reply": "2020-09-12T05:16:54.278530Z"
    },
    "papermill": {
     "duration": 0.102331,
     "end_time": "2020-09-12T05:16:54.279369",
     "exception": false,
     "start_time": "2020-09-12T05:16:54.177038",
     "status": "completed"
    },
    "tags": []
   },
   "outputs": [],
   "source": [
    "test_df = pd.read_csv('/kaggle/input/titanic/test.csv')"
   ]
  },
  {
   "cell_type": "code",
   "execution_count": 52,
   "metadata": {
    "execution": {
     "iopub.execute_input": "2020-09-12T05:16:54.468767Z",
     "iopub.status.busy": "2020-09-12T05:16:54.467965Z",
     "iopub.status.idle": "2020-09-12T05:16:54.472333Z",
     "shell.execute_reply": "2020-09-12T05:16:54.471701Z"
    },
    "papermill": {
     "duration": 0.109088,
     "end_time": "2020-09-12T05:16:54.472457",
     "exception": false,
     "start_time": "2020-09-12T05:16:54.363369",
     "status": "completed"
    },
    "tags": []
   },
   "outputs": [],
   "source": [
    "#Clean the test data the same way we did the training data\n",
    "test_df['Age']=test_df[['Age','Pclass']].apply(inpute_age, axis=1)\n",
    "test_df.drop('Cabin', axis=1, inplace=True)\n",
    "test_df['Male'] = pd.get_dummies(test_df['Sex'], drop_first=True)\n",
    "test_df.drop(['PassengerId', 'Name', 'Ticket', 'Embarked'], axis=1, inplace=True)"
   ]
  },
  {
   "cell_type": "code",
   "execution_count": 53,
   "metadata": {
    "execution": {
     "iopub.execute_input": "2020-09-12T05:16:54.656732Z",
     "iopub.status.busy": "2020-09-12T05:16:54.653703Z",
     "iopub.status.idle": "2020-09-12T05:16:54.661426Z",
     "shell.execute_reply": "2020-09-12T05:16:54.662346Z"
    },
    "papermill": {
     "duration": 0.103992,
     "end_time": "2020-09-12T05:16:54.662570",
     "exception": false,
     "start_time": "2020-09-12T05:16:54.558578",
     "status": "completed"
    },
    "tags": []
   },
   "outputs": [
    {
     "name": "stdout",
     "output_type": "stream",
     "text": [
      "<class 'pandas.core.frame.DataFrame'>\n",
      "RangeIndex: 418 entries, 0 to 417\n",
      "Data columns (total 7 columns):\n",
      " #   Column  Non-Null Count  Dtype  \n",
      "---  ------  --------------  -----  \n",
      " 0   Pclass  418 non-null    int64  \n",
      " 1   Sex     418 non-null    object \n",
      " 2   Age     418 non-null    float64\n",
      " 3   SibSp   418 non-null    int64  \n",
      " 4   Parch   418 non-null    int64  \n",
      " 5   Fare    417 non-null    float64\n",
      " 6   Male    418 non-null    uint8  \n",
      "dtypes: float64(2), int64(3), object(1), uint8(1)\n",
      "memory usage: 20.1+ KB\n"
     ]
    }
   ],
   "source": [
    "test_df.info()"
   ]
  },
  {
   "cell_type": "code",
   "execution_count": 54,
   "metadata": {
    "execution": {
     "iopub.execute_input": "2020-09-12T05:16:54.845126Z",
     "iopub.status.busy": "2020-09-12T05:16:54.844053Z",
     "iopub.status.idle": "2020-09-12T05:16:54.847676Z",
     "shell.execute_reply": "2020-09-12T05:16:54.847018Z"
    },
    "papermill": {
     "duration": 0.098052,
     "end_time": "2020-09-12T05:16:54.847792",
     "exception": false,
     "start_time": "2020-09-12T05:16:54.749740",
     "status": "completed"
    },
    "tags": []
   },
   "outputs": [],
   "source": [
    "test_df.drop(['Sex'], axis=1, inplace=True)"
   ]
  },
  {
   "cell_type": "code",
   "execution_count": 55,
   "metadata": {
    "execution": {
     "iopub.execute_input": "2020-09-12T05:16:55.036956Z",
     "iopub.status.busy": "2020-09-12T05:16:55.035973Z",
     "iopub.status.idle": "2020-09-12T05:16:55.043640Z",
     "shell.execute_reply": "2020-09-12T05:16:55.042796Z"
    },
    "papermill": {
     "duration": 0.108864,
     "end_time": "2020-09-12T05:16:55.043784",
     "exception": false,
     "start_time": "2020-09-12T05:16:54.934920",
     "status": "completed"
    },
    "tags": []
   },
   "outputs": [
    {
     "name": "stdout",
     "output_type": "stream",
     "text": [
      "<class 'pandas.core.frame.DataFrame'>\n",
      "RangeIndex: 418 entries, 0 to 417\n",
      "Data columns (total 6 columns):\n",
      " #   Column  Non-Null Count  Dtype  \n",
      "---  ------  --------------  -----  \n",
      " 0   Pclass  418 non-null    int64  \n",
      " 1   Age     418 non-null    float64\n",
      " 2   SibSp   418 non-null    int64  \n",
      " 3   Parch   418 non-null    int64  \n",
      " 4   Fare    417 non-null    float64\n",
      " 5   Male    418 non-null    uint8  \n",
      "dtypes: float64(2), int64(3), uint8(1)\n",
      "memory usage: 16.9 KB\n"
     ]
    }
   ],
   "source": [
    "test_df.info()"
   ]
  },
  {
   "cell_type": "code",
   "execution_count": 56,
   "metadata": {
    "execution": {
     "iopub.execute_input": "2020-09-12T05:16:55.231817Z",
     "iopub.status.busy": "2020-09-12T05:16:55.231164Z",
     "iopub.status.idle": "2020-09-12T05:16:55.235896Z",
     "shell.execute_reply": "2020-09-12T05:16:55.235122Z"
    },
    "papermill": {
     "duration": 0.101833,
     "end_time": "2020-09-12T05:16:55.236034",
     "exception": false,
     "start_time": "2020-09-12T05:16:55.134201",
     "status": "completed"
    },
    "tags": []
   },
   "outputs": [
    {
     "data": {
      "text/plain": [
       "Pclass    0\n",
       "Age       0\n",
       "SibSp     0\n",
       "Parch     0\n",
       "Fare      1\n",
       "Male      0\n",
       "dtype: int64"
      ]
     },
     "execution_count": 56,
     "metadata": {},
     "output_type": "execute_result"
    }
   ],
   "source": [
    "test_df.isnull().sum()"
   ]
  },
  {
   "cell_type": "code",
   "execution_count": 57,
   "metadata": {
    "execution": {
     "iopub.execute_input": "2020-09-12T05:16:55.425109Z",
     "iopub.status.busy": "2020-09-12T05:16:55.424414Z",
     "iopub.status.idle": "2020-09-12T05:16:55.427597Z",
     "shell.execute_reply": "2020-09-12T05:16:55.427055Z"
    },
    "papermill": {
     "duration": 0.099339,
     "end_time": "2020-09-12T05:16:55.427735",
     "exception": false,
     "start_time": "2020-09-12T05:16:55.328396",
     "status": "completed"
    },
    "tags": []
   },
   "outputs": [],
   "source": [
    "mean = test_df.Fare.mean()"
   ]
  },
  {
   "cell_type": "code",
   "execution_count": 58,
   "metadata": {
    "execution": {
     "iopub.execute_input": "2020-09-12T05:16:55.615758Z",
     "iopub.status.busy": "2020-09-12T05:16:55.615063Z",
     "iopub.status.idle": "2020-09-12T05:16:55.618128Z",
     "shell.execute_reply": "2020-09-12T05:16:55.618647Z"
    },
    "papermill": {
     "duration": 0.099724,
     "end_time": "2020-09-12T05:16:55.618784",
     "exception": false,
     "start_time": "2020-09-12T05:16:55.519060",
     "status": "completed"
    },
    "tags": []
   },
   "outputs": [],
   "source": [
    "test_df['Fare'] = test_df.Fare.fillna(mean)"
   ]
  },
  {
   "cell_type": "code",
   "execution_count": 59,
   "metadata": {
    "execution": {
     "iopub.execute_input": "2020-09-12T05:16:55.806121Z",
     "iopub.status.busy": "2020-09-12T05:16:55.805059Z",
     "iopub.status.idle": "2020-09-12T05:16:55.809993Z",
     "shell.execute_reply": "2020-09-12T05:16:55.809249Z"
    },
    "papermill": {
     "duration": 0.100257,
     "end_time": "2020-09-12T05:16:55.810125",
     "exception": false,
     "start_time": "2020-09-12T05:16:55.709868",
     "status": "completed"
    },
    "tags": []
   },
   "outputs": [
    {
     "data": {
      "text/plain": [
       "0"
      ]
     },
     "execution_count": 59,
     "metadata": {},
     "output_type": "execute_result"
    }
   ],
   "source": [
    "test_df.Fare.isnull().sum()"
   ]
  },
  {
   "cell_type": "code",
   "execution_count": 60,
   "metadata": {
    "execution": {
     "iopub.execute_input": "2020-09-12T05:16:55.997898Z",
     "iopub.status.busy": "2020-09-12T05:16:55.997198Z",
     "iopub.status.idle": "2020-09-12T05:16:56.006192Z",
     "shell.execute_reply": "2020-09-12T05:16:56.005416Z"
    },
    "papermill": {
     "duration": 0.106039,
     "end_time": "2020-09-12T05:16:56.006319",
     "exception": false,
     "start_time": "2020-09-12T05:16:55.900280",
     "status": "completed"
    },
    "tags": []
   },
   "outputs": [],
   "source": [
    "y_prediction = clf.predict(test_df)"
   ]
  },
  {
   "cell_type": "code",
   "execution_count": 61,
   "metadata": {
    "execution": {
     "iopub.execute_input": "2020-09-12T05:16:56.191565Z",
     "iopub.status.busy": "2020-09-12T05:16:56.190836Z",
     "iopub.status.idle": "2020-09-12T05:16:56.198885Z",
     "shell.execute_reply": "2020-09-12T05:16:56.198132Z"
    },
    "papermill": {
     "duration": 0.102505,
     "end_time": "2020-09-12T05:16:56.199037",
     "exception": false,
     "start_time": "2020-09-12T05:16:56.096532",
     "status": "completed"
    },
    "tags": []
   },
   "outputs": [],
   "source": [
    "test = pd.read_csv('/kaggle/input/titanic/test.csv')\n",
    "pass_ids = test['PassengerId']"
   ]
  },
  {
   "cell_type": "code",
   "execution_count": 62,
   "metadata": {
    "execution": {
     "iopub.execute_input": "2020-09-12T05:16:56.387088Z",
     "iopub.status.busy": "2020-09-12T05:16:56.386321Z",
     "iopub.status.idle": "2020-09-12T05:16:56.716496Z",
     "shell.execute_reply": "2020-09-12T05:16:56.715758Z"
    },
    "papermill": {
     "duration": 0.427106,
     "end_time": "2020-09-12T05:16:56.716623",
     "exception": false,
     "start_time": "2020-09-12T05:16:56.289517",
     "status": "completed"
    },
    "tags": []
   },
   "outputs": [],
   "source": [
    "submission = pd.DataFrame({\n",
    "        \"PassengerId\": pass_ids,\n",
    "        \"Survived\": y_prediction\n",
    "    })\n",
    "submission.to_csv('titanic.csv', index=False)"
   ]
  },
  {
   "cell_type": "markdown",
   "metadata": {
    "papermill": {
     "duration": 0.091063,
     "end_time": "2020-09-12T05:16:56.903630",
     "exception": false,
     "start_time": "2020-09-12T05:16:56.812567",
     "status": "completed"
    },
    "tags": []
   },
   "source": [
    "If you have made it this far then thank you so much for your time, if it helped you or you liked please considering upvoting \n",
    "And if you have some suggestions or things that I can improve, please let me know in the comments \n"
   ]
  }
 ],
 "metadata": {
  "kernelspec": {
   "display_name": "Python 3",
   "language": "python",
   "name": "python3"
  },
  "language_info": {
   "codemirror_mode": {
    "name": "ipython",
    "version": 3
   },
   "file_extension": ".py",
   "mimetype": "text/x-python",
   "name": "python",
   "nbconvert_exporter": "python",
   "pygments_lexer": "ipython3",
   "version": "3.7.6"
  },
  "papermill": {
   "duration": 25.457913,
   "end_time": "2020-09-12T05:16:57.103212",
   "environment_variables": {},
   "exception": null,
   "input_path": "__notebook__.ipynb",
   "output_path": "__notebook__.ipynb",
   "parameters": {},
   "start_time": "2020-09-12T05:16:31.645299",
   "version": "2.1.0"
  }
 },
 "nbformat": 4,
 "nbformat_minor": 4
}
