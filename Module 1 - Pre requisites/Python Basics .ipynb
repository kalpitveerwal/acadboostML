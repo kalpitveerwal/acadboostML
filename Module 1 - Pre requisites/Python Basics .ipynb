{
 "cells": [
  {
   "cell_type": "markdown",
   "metadata": {},
   "source": [
    "## Data structures in Python \n",
    "A data structure is a particular way of organizing data in a computer so that it can be used effectively.\n",
    "\n",
    "There are four data structures in python:\n",
    "1. list\n",
    "2. tuples\n",
    "3. set\n",
    "4. dictionary "
   ]
  },
  {
   "cell_type": "markdown",
   "metadata": {},
   "source": [
    "### 1. Lists \n",
    "A list is a collection which is ordered and changeable. In Python lists are written with square brackets.\n"
   ]
  },
  {
   "cell_type": "code",
   "execution_count": 43,
   "metadata": {},
   "outputs": [
    {
     "name": "stdout",
     "output_type": "stream",
     "text": [
      "2633488756288\n"
     ]
    }
   ],
   "source": [
    "# creating a list\n",
    "a = [1,4,5,6,7,2,5]\n",
    "# id stores the address of the location where the list is stored \n",
    "print(id(a))"
   ]
  },
  {
   "cell_type": "code",
   "execution_count": 44,
   "metadata": {},
   "outputs": [
    {
     "name": "stdout",
     "output_type": "stream",
     "text": [
      "<class 'list'>\n"
     ]
    }
   ],
   "source": [
    "# Type - gives which object is it that is whether it is int or float or list \n",
    "print(type(a))"
   ]
  },
  {
   "cell_type": "code",
   "execution_count": 45,
   "metadata": {},
   "outputs": [
    {
     "name": "stdout",
     "output_type": "stream",
     "text": [
      "7\n"
     ]
    }
   ],
   "source": [
    "# Accessing elements in the list\n",
    "print(a[4])"
   ]
  },
  {
   "cell_type": "code",
   "execution_count": 47,
   "metadata": {},
   "outputs": [
    {
     "name": "stdout",
     "output_type": "stream",
     "text": [
      "7\n",
      "6\n"
     ]
    }
   ],
   "source": [
    "# gives the length of the list \n",
    "print(len(a))\n",
    "# Negative indexing of the list \n",
    "print(a[-4])\n"
   ]
  },
  {
   "cell_type": "code",
   "execution_count": 6,
   "metadata": {},
   "outputs": [
    {
     "name": "stdout",
     "output_type": "stream",
     "text": [
      "[5, 6, 7]\n"
     ]
    }
   ],
   "source": [
    "# Splitting in python \n",
    "print(a[2:5])"
   ]
  },
  {
   "cell_type": "code",
   "execution_count": 9,
   "metadata": {},
   "outputs": [
    {
     "name": "stdout",
     "output_type": "stream",
     "text": [
      "1456725\n",
      "1456725"
     ]
    }
   ],
   "source": [
    "# looping over list \n",
    "# Type 1 \n",
    "for i in range(len(a)):\n",
    "    print(a[i],end = \"\")\n",
    "# Type 2 \n",
    "print()\n",
    "for i in a:\n",
    "    print(i, end = \"\")"
   ]
  },
  {
   "cell_type": "code",
   "execution_count": 49,
   "metadata": {},
   "outputs": [
    {
     "name": "stdout",
     "output_type": "stream",
     "text": [
      "[1, 4, 5, 6, 7, 2, 5, (10, 11, 13)]\n"
     ]
    }
   ],
   "source": [
    "# adding an element to the list - append, insert, extend\n",
    "\n",
    "a.append((10,11,13)) # Appends the specified element to the end of the list\n",
    "print(a)"
   ]
  },
  {
   "cell_type": "code",
   "execution_count": 17,
   "metadata": {},
   "outputs": [
    {
     "name": "stdout",
     "output_type": "stream",
     "text": [
      "[1, 4, 3, 3, 5, 6, 7, 2, 5, 10]\n"
     ]
    }
   ],
   "source": [
    "a.insert(2,3) # inserts the specified element at the specified position, 1st - parameter is index and 2nd parameter is the element\n",
    "print(a)"
   ]
  },
  {
   "cell_type": "code",
   "execution_count": 25,
   "metadata": {},
   "outputs": [
    {
     "name": "stdout",
     "output_type": "stream",
     "text": [
      "[1, 4, 3, 3, 5, 6, 7, 2, 5, 10, 11, 12, 13]\n"
     ]
    }
   ],
   "source": [
    "a.extend((11,12,13)) # Here multiple elements can be added in the list \n",
    "print(a)"
   ]
  },
  {
   "cell_type": "code",
   "execution_count": 26,
   "metadata": {},
   "outputs": [
    {
     "name": "stdout",
     "output_type": "stream",
     "text": [
      "[1, 4, 3, 3, 5, 6, 7, 2, 5, 10, 12, 13]\n"
     ]
    }
   ],
   "source": [
    "a.remove(11) # removes the item that you give as the parameter, only one element can be removed at once \n",
    "print(a)"
   ]
  },
  {
   "cell_type": "code",
   "execution_count": 50,
   "metadata": {},
   "outputs": [
    {
     "name": "stdout",
     "output_type": "stream",
     "text": [
      "[1, 4, 5, 6, 7, 5, (10, 11, 13)]\n"
     ]
    }
   ],
   "source": [
    "a.pop(5) #Removes the element whose index is specified and the last element if no index is specified \n",
    "print(a)"
   ]
  },
  {
   "cell_type": "code",
   "execution_count": 51,
   "metadata": {},
   "outputs": [
    {
     "name": "stdout",
     "output_type": "stream",
     "text": [
      "[1, 4, 5, 6, 5, (10, 11, 13)]\n"
     ]
    }
   ],
   "source": [
    "del a[4] # removes the index mentioned in the list\n",
    "print(a)"
   ]
  },
  {
   "cell_type": "code",
   "execution_count": 29,
   "metadata": {},
   "outputs": [
    {
     "name": "stdout",
     "output_type": "stream",
     "text": [
      "[]\n"
     ]
    }
   ],
   "source": [
    "a.clear() # Deletes the entire list \n",
    "print(a)"
   ]
  },
  {
   "cell_type": "code",
   "execution_count": 52,
   "metadata": {},
   "outputs": [
    {
     "name": "stdout",
     "output_type": "stream",
     "text": [
      "[4, 5, 6, 7, 32, 1, 3, 4, 6, 7, 5]\n"
     ]
    }
   ],
   "source": [
    "# Adding two lists \n",
    "a = [1,3,4,6,7,5]\n",
    "b = [4,5,6,7,32]\n",
    "print(b+a)"
   ]
  },
  {
   "cell_type": "markdown",
   "metadata": {},
   "source": [
    "### Dictionary \n",
    "A dictionary has key value pair and is a collection which is unordered, changeable and indexed"
   ]
  },
  {
   "cell_type": "code",
   "execution_count": 55,
   "metadata": {},
   "outputs": [
    {
     "data": {
      "text/plain": [
       "{'key 1': [0, 1, 2, 3, 4, 5],\n",
       " 'key2': ['some values'],\n",
       " 'key 3': [3, 6, 2, 4, 5]}"
      ]
     },
     "execution_count": 55,
     "metadata": {},
     "output_type": "execute_result"
    }
   ],
   "source": [
    "d1 = {'key 1':[0,1,2,3,4,5],'key2':[\"some values\"],'key 3':[3,6,2,4,5]}\n",
    "d1"
   ]
  },
  {
   "cell_type": "code",
   "execution_count": 32,
   "metadata": {},
   "outputs": [
    {
     "data": {
      "text/plain": [
       "dict"
      ]
     },
     "execution_count": 32,
     "metadata": {},
     "output_type": "execute_result"
    }
   ],
   "source": [
    "type(d1)"
   ]
  },
  {
   "cell_type": "code",
   "execution_count": 33,
   "metadata": {},
   "outputs": [
    {
     "data": {
      "text/plain": [
       "2633489866624"
      ]
     },
     "execution_count": 33,
     "metadata": {},
     "output_type": "execute_result"
    }
   ],
   "source": [
    "id(d1)"
   ]
  },
  {
   "cell_type": "code",
   "execution_count": 58,
   "metadata": {},
   "outputs": [
    {
     "data": {
      "text/plain": [
       "[3, 6, 2, 4, 5]"
      ]
     },
     "execution_count": 58,
     "metadata": {},
     "output_type": "execute_result"
    }
   ],
   "source": [
    "# Accessing the elements \n",
    "d1[\"key 3\"]"
   ]
  },
  {
   "cell_type": "code",
   "execution_count": 60,
   "metadata": {},
   "outputs": [
    {
     "data": {
      "text/plain": [
       "{'key 1': 'this value is also changed',\n",
       " 'key2': 'the value is changed',\n",
       " 'key 3': [3, 6, 2, 4, 5]}"
      ]
     },
     "execution_count": 60,
     "metadata": {},
     "output_type": "execute_result"
    }
   ],
   "source": [
    "# Changine the values of a key\n",
    "d1[\"key 1\"] = \"this value is also changed\"\n",
    "d1"
   ]
  },
  {
   "cell_type": "code",
   "execution_count": 37,
   "metadata": {},
   "outputs": [
    {
     "name": "stdout",
     "output_type": "stream",
     "text": [
      "key 1 \n",
      "key2\n",
      "key 3\n"
     ]
    }
   ],
   "source": [
    "# Looping through the dictionary \n",
    "for x in d1:\n",
    "    print(x)"
   ]
  },
  {
   "cell_type": "code",
   "execution_count": 38,
   "metadata": {},
   "outputs": [
    {
     "name": "stdout",
     "output_type": "stream",
     "text": [
      "[0, 1, 2, 3, 4, 5]\n",
      "the value is changed\n",
      "[3, 6, 2, 4, 5]\n"
     ]
    }
   ],
   "source": [
    "for x in d1:\n",
    "    print(d1[x])"
   ]
  },
  {
   "cell_type": "code",
   "execution_count": 39,
   "metadata": {},
   "outputs": [
    {
     "name": "stdout",
     "output_type": "stream",
     "text": [
      "key 1  [0, 1, 2, 3, 4, 5]\n",
      "key2 the value is changed\n",
      "key 3 [3, 6, 2, 4, 5]\n"
     ]
    }
   ],
   "source": [
    "for x, y in d1.items():\n",
    "    print(x, y)"
   ]
  },
  {
   "cell_type": "code",
   "execution_count": 61,
   "metadata": {},
   "outputs": [
    {
     "name": "stdout",
     "output_type": "stream",
     "text": [
      "{'key 1': 'this value is also changed', 'key2': 'the value is changed', 'key 3': [3, 6, 2, 4, 5], 'colour': 'blue'}\n"
     ]
    }
   ],
   "source": [
    "d1[\"colour\"] = \"blue\"\n",
    "print(d1)"
   ]
  },
  {
   "cell_type": "code",
   "execution_count": 62,
   "metadata": {},
   "outputs": [
    {
     "name": "stdout",
     "output_type": "stream",
     "text": [
      "{'key 1': 'this value is also changed', 'key2': 'the value is changed', 'key 3': [3, 6, 2, 4, 5]}\n"
     ]
    }
   ],
   "source": [
    "d1.pop(\"colour\")\n",
    "print(d1)"
   ]
  },
  {
   "cell_type": "code",
   "execution_count": null,
   "metadata": {},
   "outputs": [],
   "source": []
  }
 ],
 "metadata": {
  "kernelspec": {
   "display_name": "Python 3",
   "language": "python",
   "name": "python3"
  },
  "language_info": {
   "codemirror_mode": {
    "name": "ipython",
    "version": 3
   },
   "file_extension": ".py",
   "mimetype": "text/x-python",
   "name": "python",
   "nbconvert_exporter": "python",
   "pygments_lexer": "ipython3",
   "version": "3.8.3"
  }
 },
 "nbformat": 4,
 "nbformat_minor": 4
}
